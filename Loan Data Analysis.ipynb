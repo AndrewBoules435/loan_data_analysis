{
 "cells": [
  {
   "cell_type": "code",
   "execution_count": 1,
   "metadata": {},
   "outputs": [],
   "source": [
    "import pandas as pd\n",
    "import numpy as np\n",
    "import seaborn as sns\n",
    "import matplotlib.pyplot as plt\n",
    "%matplotlib inline"
   ]
  },
  {
   "cell_type": "code",
   "execution_count": 2,
   "metadata": {
    "scrolled": true
   },
   "outputs": [
    {
     "data": {
      "text/html": [
       "<div>\n",
       "<style scoped>\n",
       "    .dataframe tbody tr th:only-of-type {\n",
       "        vertical-align: middle;\n",
       "    }\n",
       "\n",
       "    .dataframe tbody tr th {\n",
       "        vertical-align: top;\n",
       "    }\n",
       "\n",
       "    .dataframe thead th {\n",
       "        text-align: right;\n",
       "    }\n",
       "</style>\n",
       "<table border=\"1\" class=\"dataframe\">\n",
       "  <thead>\n",
       "    <tr style=\"text-align: right;\">\n",
       "      <th></th>\n",
       "      <th>credit.policy</th>\n",
       "      <th>purpose</th>\n",
       "      <th>int.rate</th>\n",
       "      <th>installment</th>\n",
       "      <th>log.annual.inc</th>\n",
       "      <th>dti</th>\n",
       "      <th>fico</th>\n",
       "      <th>days.with.cr.line</th>\n",
       "      <th>revol.bal</th>\n",
       "      <th>revol.util</th>\n",
       "      <th>inq.last.6mths</th>\n",
       "      <th>delinq.2yrs</th>\n",
       "      <th>pub.rec</th>\n",
       "      <th>not.fully.paid</th>\n",
       "    </tr>\n",
       "  </thead>\n",
       "  <tbody>\n",
       "    <tr>\n",
       "      <th>0</th>\n",
       "      <td>1</td>\n",
       "      <td>debt_consolidation</td>\n",
       "      <td>0.1189</td>\n",
       "      <td>829.10</td>\n",
       "      <td>11.350407</td>\n",
       "      <td>19.48</td>\n",
       "      <td>737</td>\n",
       "      <td>5639.958333</td>\n",
       "      <td>28854</td>\n",
       "      <td>52.1</td>\n",
       "      <td>0</td>\n",
       "      <td>0</td>\n",
       "      <td>0</td>\n",
       "      <td>0</td>\n",
       "    </tr>\n",
       "    <tr>\n",
       "      <th>1</th>\n",
       "      <td>1</td>\n",
       "      <td>credit_card</td>\n",
       "      <td>0.1071</td>\n",
       "      <td>228.22</td>\n",
       "      <td>11.082143</td>\n",
       "      <td>14.29</td>\n",
       "      <td>707</td>\n",
       "      <td>2760.000000</td>\n",
       "      <td>33623</td>\n",
       "      <td>76.7</td>\n",
       "      <td>0</td>\n",
       "      <td>0</td>\n",
       "      <td>0</td>\n",
       "      <td>0</td>\n",
       "    </tr>\n",
       "    <tr>\n",
       "      <th>2</th>\n",
       "      <td>1</td>\n",
       "      <td>debt_consolidation</td>\n",
       "      <td>0.1357</td>\n",
       "      <td>366.86</td>\n",
       "      <td>10.373491</td>\n",
       "      <td>11.63</td>\n",
       "      <td>682</td>\n",
       "      <td>4710.000000</td>\n",
       "      <td>3511</td>\n",
       "      <td>25.6</td>\n",
       "      <td>1</td>\n",
       "      <td>0</td>\n",
       "      <td>0</td>\n",
       "      <td>0</td>\n",
       "    </tr>\n",
       "    <tr>\n",
       "      <th>3</th>\n",
       "      <td>1</td>\n",
       "      <td>debt_consolidation</td>\n",
       "      <td>0.1008</td>\n",
       "      <td>162.34</td>\n",
       "      <td>11.350407</td>\n",
       "      <td>8.10</td>\n",
       "      <td>712</td>\n",
       "      <td>2699.958333</td>\n",
       "      <td>33667</td>\n",
       "      <td>73.2</td>\n",
       "      <td>1</td>\n",
       "      <td>0</td>\n",
       "      <td>0</td>\n",
       "      <td>0</td>\n",
       "    </tr>\n",
       "    <tr>\n",
       "      <th>4</th>\n",
       "      <td>1</td>\n",
       "      <td>credit_card</td>\n",
       "      <td>0.1426</td>\n",
       "      <td>102.92</td>\n",
       "      <td>11.299732</td>\n",
       "      <td>14.97</td>\n",
       "      <td>667</td>\n",
       "      <td>4066.000000</td>\n",
       "      <td>4740</td>\n",
       "      <td>39.5</td>\n",
       "      <td>0</td>\n",
       "      <td>1</td>\n",
       "      <td>0</td>\n",
       "      <td>0</td>\n",
       "    </tr>\n",
       "    <tr>\n",
       "      <th>5</th>\n",
       "      <td>1</td>\n",
       "      <td>credit_card</td>\n",
       "      <td>0.0788</td>\n",
       "      <td>125.13</td>\n",
       "      <td>11.904968</td>\n",
       "      <td>16.98</td>\n",
       "      <td>727</td>\n",
       "      <td>6120.041667</td>\n",
       "      <td>50807</td>\n",
       "      <td>51.0</td>\n",
       "      <td>0</td>\n",
       "      <td>0</td>\n",
       "      <td>0</td>\n",
       "      <td>0</td>\n",
       "    </tr>\n",
       "    <tr>\n",
       "      <th>6</th>\n",
       "      <td>1</td>\n",
       "      <td>debt_consolidation</td>\n",
       "      <td>0.1496</td>\n",
       "      <td>194.02</td>\n",
       "      <td>10.714418</td>\n",
       "      <td>4.00</td>\n",
       "      <td>667</td>\n",
       "      <td>3180.041667</td>\n",
       "      <td>3839</td>\n",
       "      <td>76.8</td>\n",
       "      <td>0</td>\n",
       "      <td>0</td>\n",
       "      <td>1</td>\n",
       "      <td>1</td>\n",
       "    </tr>\n",
       "    <tr>\n",
       "      <th>7</th>\n",
       "      <td>1</td>\n",
       "      <td>all_other</td>\n",
       "      <td>0.1114</td>\n",
       "      <td>131.22</td>\n",
       "      <td>11.002100</td>\n",
       "      <td>11.08</td>\n",
       "      <td>722</td>\n",
       "      <td>5116.000000</td>\n",
       "      <td>24220</td>\n",
       "      <td>68.6</td>\n",
       "      <td>0</td>\n",
       "      <td>0</td>\n",
       "      <td>0</td>\n",
       "      <td>1</td>\n",
       "    </tr>\n",
       "    <tr>\n",
       "      <th>8</th>\n",
       "      <td>1</td>\n",
       "      <td>home_improvement</td>\n",
       "      <td>0.1134</td>\n",
       "      <td>87.19</td>\n",
       "      <td>11.407565</td>\n",
       "      <td>17.25</td>\n",
       "      <td>682</td>\n",
       "      <td>3989.000000</td>\n",
       "      <td>69909</td>\n",
       "      <td>51.1</td>\n",
       "      <td>1</td>\n",
       "      <td>0</td>\n",
       "      <td>0</td>\n",
       "      <td>0</td>\n",
       "    </tr>\n",
       "    <tr>\n",
       "      <th>9</th>\n",
       "      <td>1</td>\n",
       "      <td>debt_consolidation</td>\n",
       "      <td>0.1221</td>\n",
       "      <td>84.12</td>\n",
       "      <td>10.203592</td>\n",
       "      <td>10.00</td>\n",
       "      <td>707</td>\n",
       "      <td>2730.041667</td>\n",
       "      <td>5630</td>\n",
       "      <td>23.0</td>\n",
       "      <td>1</td>\n",
       "      <td>0</td>\n",
       "      <td>0</td>\n",
       "      <td>0</td>\n",
       "    </tr>\n",
       "    <tr>\n",
       "      <th>10</th>\n",
       "      <td>1</td>\n",
       "      <td>debt_consolidation</td>\n",
       "      <td>0.1347</td>\n",
       "      <td>360.43</td>\n",
       "      <td>10.434116</td>\n",
       "      <td>22.09</td>\n",
       "      <td>677</td>\n",
       "      <td>6713.041667</td>\n",
       "      <td>13846</td>\n",
       "      <td>71.0</td>\n",
       "      <td>2</td>\n",
       "      <td>0</td>\n",
       "      <td>1</td>\n",
       "      <td>0</td>\n",
       "    </tr>\n",
       "    <tr>\n",
       "      <th>11</th>\n",
       "      <td>1</td>\n",
       "      <td>debt_consolidation</td>\n",
       "      <td>0.1324</td>\n",
       "      <td>253.58</td>\n",
       "      <td>11.835009</td>\n",
       "      <td>9.16</td>\n",
       "      <td>662</td>\n",
       "      <td>4298.000000</td>\n",
       "      <td>5122</td>\n",
       "      <td>18.2</td>\n",
       "      <td>2</td>\n",
       "      <td>1</td>\n",
       "      <td>0</td>\n",
       "      <td>0</td>\n",
       "    </tr>\n",
       "    <tr>\n",
       "      <th>12</th>\n",
       "      <td>1</td>\n",
       "      <td>debt_consolidation</td>\n",
       "      <td>0.0859</td>\n",
       "      <td>316.11</td>\n",
       "      <td>10.933107</td>\n",
       "      <td>15.49</td>\n",
       "      <td>767</td>\n",
       "      <td>6519.958333</td>\n",
       "      <td>6068</td>\n",
       "      <td>16.7</td>\n",
       "      <td>0</td>\n",
       "      <td>0</td>\n",
       "      <td>0</td>\n",
       "      <td>0</td>\n",
       "    </tr>\n",
       "    <tr>\n",
       "      <th>13</th>\n",
       "      <td>1</td>\n",
       "      <td>small_business</td>\n",
       "      <td>0.0714</td>\n",
       "      <td>92.82</td>\n",
       "      <td>11.512925</td>\n",
       "      <td>6.50</td>\n",
       "      <td>747</td>\n",
       "      <td>4384.000000</td>\n",
       "      <td>3021</td>\n",
       "      <td>4.8</td>\n",
       "      <td>0</td>\n",
       "      <td>1</td>\n",
       "      <td>0</td>\n",
       "      <td>0</td>\n",
       "    </tr>\n",
       "    <tr>\n",
       "      <th>14</th>\n",
       "      <td>1</td>\n",
       "      <td>debt_consolidation</td>\n",
       "      <td>0.0863</td>\n",
       "      <td>209.54</td>\n",
       "      <td>9.487972</td>\n",
       "      <td>9.73</td>\n",
       "      <td>727</td>\n",
       "      <td>1559.958333</td>\n",
       "      <td>6282</td>\n",
       "      <td>44.6</td>\n",
       "      <td>0</td>\n",
       "      <td>0</td>\n",
       "      <td>0</td>\n",
       "      <td>0</td>\n",
       "    </tr>\n",
       "    <tr>\n",
       "      <th>15</th>\n",
       "      <td>1</td>\n",
       "      <td>major_purchase</td>\n",
       "      <td>0.1103</td>\n",
       "      <td>327.53</td>\n",
       "      <td>10.738915</td>\n",
       "      <td>13.04</td>\n",
       "      <td>702</td>\n",
       "      <td>8159.958333</td>\n",
       "      <td>5394</td>\n",
       "      <td>53.4</td>\n",
       "      <td>1</td>\n",
       "      <td>0</td>\n",
       "      <td>0</td>\n",
       "      <td>0</td>\n",
       "    </tr>\n",
       "    <tr>\n",
       "      <th>16</th>\n",
       "      <td>1</td>\n",
       "      <td>all_other</td>\n",
       "      <td>0.1317</td>\n",
       "      <td>77.69</td>\n",
       "      <td>10.522773</td>\n",
       "      <td>2.26</td>\n",
       "      <td>672</td>\n",
       "      <td>3895.958333</td>\n",
       "      <td>2211</td>\n",
       "      <td>88.4</td>\n",
       "      <td>0</td>\n",
       "      <td>0</td>\n",
       "      <td>0</td>\n",
       "      <td>0</td>\n",
       "    </tr>\n",
       "    <tr>\n",
       "      <th>17</th>\n",
       "      <td>1</td>\n",
       "      <td>credit_card</td>\n",
       "      <td>0.0894</td>\n",
       "      <td>476.58</td>\n",
       "      <td>11.608236</td>\n",
       "      <td>7.07</td>\n",
       "      <td>797</td>\n",
       "      <td>6510.958333</td>\n",
       "      <td>7586</td>\n",
       "      <td>52.7</td>\n",
       "      <td>1</td>\n",
       "      <td>0</td>\n",
       "      <td>0</td>\n",
       "      <td>0</td>\n",
       "    </tr>\n",
       "    <tr>\n",
       "      <th>18</th>\n",
       "      <td>1</td>\n",
       "      <td>debt_consolidation</td>\n",
       "      <td>0.1039</td>\n",
       "      <td>584.12</td>\n",
       "      <td>10.491274</td>\n",
       "      <td>3.80</td>\n",
       "      <td>712</td>\n",
       "      <td>2760.000000</td>\n",
       "      <td>8311</td>\n",
       "      <td>59.8</td>\n",
       "      <td>0</td>\n",
       "      <td>0</td>\n",
       "      <td>0</td>\n",
       "      <td>0</td>\n",
       "    </tr>\n",
       "    <tr>\n",
       "      <th>19</th>\n",
       "      <td>1</td>\n",
       "      <td>major_purchase</td>\n",
       "      <td>0.1513</td>\n",
       "      <td>173.65</td>\n",
       "      <td>11.002100</td>\n",
       "      <td>2.74</td>\n",
       "      <td>667</td>\n",
       "      <td>1126.958333</td>\n",
       "      <td>591</td>\n",
       "      <td>84.4</td>\n",
       "      <td>3</td>\n",
       "      <td>0</td>\n",
       "      <td>0</td>\n",
       "      <td>0</td>\n",
       "    </tr>\n",
       "    <tr>\n",
       "      <th>20</th>\n",
       "      <td>1</td>\n",
       "      <td>all_other</td>\n",
       "      <td>0.0800</td>\n",
       "      <td>188.02</td>\n",
       "      <td>11.225243</td>\n",
       "      <td>16.08</td>\n",
       "      <td>772</td>\n",
       "      <td>4888.958333</td>\n",
       "      <td>29797</td>\n",
       "      <td>23.2</td>\n",
       "      <td>1</td>\n",
       "      <td>0</td>\n",
       "      <td>0</td>\n",
       "      <td>0</td>\n",
       "    </tr>\n",
       "    <tr>\n",
       "      <th>21</th>\n",
       "      <td>1</td>\n",
       "      <td>all_other</td>\n",
       "      <td>0.0863</td>\n",
       "      <td>474.42</td>\n",
       "      <td>10.819778</td>\n",
       "      <td>2.59</td>\n",
       "      <td>797</td>\n",
       "      <td>11951.000000</td>\n",
       "      <td>5656</td>\n",
       "      <td>27.6</td>\n",
       "      <td>0</td>\n",
       "      <td>0</td>\n",
       "      <td>0</td>\n",
       "      <td>0</td>\n",
       "    </tr>\n",
       "    <tr>\n",
       "      <th>22</th>\n",
       "      <td>1</td>\n",
       "      <td>credit_card</td>\n",
       "      <td>0.1355</td>\n",
       "      <td>339.60</td>\n",
       "      <td>11.512925</td>\n",
       "      <td>7.94</td>\n",
       "      <td>662</td>\n",
       "      <td>1939.958333</td>\n",
       "      <td>21162</td>\n",
       "      <td>57.7</td>\n",
       "      <td>0</td>\n",
       "      <td>0</td>\n",
       "      <td>0</td>\n",
       "      <td>0</td>\n",
       "    </tr>\n",
       "    <tr>\n",
       "      <th>23</th>\n",
       "      <td>1</td>\n",
       "      <td>credit_card</td>\n",
       "      <td>0.0788</td>\n",
       "      <td>484.85</td>\n",
       "      <td>11.736069</td>\n",
       "      <td>7.05</td>\n",
       "      <td>782</td>\n",
       "      <td>5640.041667</td>\n",
       "      <td>16931</td>\n",
       "      <td>34.6</td>\n",
       "      <td>1</td>\n",
       "      <td>0</td>\n",
       "      <td>0</td>\n",
       "      <td>0</td>\n",
       "    </tr>\n",
       "    <tr>\n",
       "      <th>24</th>\n",
       "      <td>1</td>\n",
       "      <td>debt_consolidation</td>\n",
       "      <td>0.1229</td>\n",
       "      <td>320.19</td>\n",
       "      <td>11.264464</td>\n",
       "      <td>8.80</td>\n",
       "      <td>672</td>\n",
       "      <td>3760.958333</td>\n",
       "      <td>4822</td>\n",
       "      <td>58.1</td>\n",
       "      <td>0</td>\n",
       "      <td>0</td>\n",
       "      <td>1</td>\n",
       "      <td>0</td>\n",
       "    </tr>\n",
       "    <tr>\n",
       "      <th>25</th>\n",
       "      <td>1</td>\n",
       "      <td>all_other</td>\n",
       "      <td>0.0901</td>\n",
       "      <td>159.03</td>\n",
       "      <td>12.429216</td>\n",
       "      <td>10.00</td>\n",
       "      <td>712</td>\n",
       "      <td>1553.958333</td>\n",
       "      <td>14354</td>\n",
       "      <td>36.6</td>\n",
       "      <td>0</td>\n",
       "      <td>2</td>\n",
       "      <td>0</td>\n",
       "      <td>0</td>\n",
       "    </tr>\n",
       "    <tr>\n",
       "      <th>26</th>\n",
       "      <td>1</td>\n",
       "      <td>all_other</td>\n",
       "      <td>0.0743</td>\n",
       "      <td>155.38</td>\n",
       "      <td>11.082143</td>\n",
       "      <td>0.28</td>\n",
       "      <td>802</td>\n",
       "      <td>4649.958333</td>\n",
       "      <td>1576</td>\n",
       "      <td>5.7</td>\n",
       "      <td>1</td>\n",
       "      <td>0</td>\n",
       "      <td>0</td>\n",
       "      <td>0</td>\n",
       "    </tr>\n",
       "    <tr>\n",
       "      <th>27</th>\n",
       "      <td>1</td>\n",
       "      <td>debt_consolidation</td>\n",
       "      <td>0.1375</td>\n",
       "      <td>255.43</td>\n",
       "      <td>9.998798</td>\n",
       "      <td>14.29</td>\n",
       "      <td>662</td>\n",
       "      <td>1318.958333</td>\n",
       "      <td>4175</td>\n",
       "      <td>51.5</td>\n",
       "      <td>0</td>\n",
       "      <td>1</td>\n",
       "      <td>0</td>\n",
       "      <td>0</td>\n",
       "    </tr>\n",
       "    <tr>\n",
       "      <th>28</th>\n",
       "      <td>1</td>\n",
       "      <td>all_other</td>\n",
       "      <td>0.0743</td>\n",
       "      <td>155.38</td>\n",
       "      <td>12.206073</td>\n",
       "      <td>0.28</td>\n",
       "      <td>772</td>\n",
       "      <td>4516.958333</td>\n",
       "      <td>3164</td>\n",
       "      <td>13.7</td>\n",
       "      <td>0</td>\n",
       "      <td>0</td>\n",
       "      <td>0</td>\n",
       "      <td>0</td>\n",
       "    </tr>\n",
       "    <tr>\n",
       "      <th>29</th>\n",
       "      <td>1</td>\n",
       "      <td>all_other</td>\n",
       "      <td>0.0743</td>\n",
       "      <td>155.38</td>\n",
       "      <td>12.206073</td>\n",
       "      <td>3.72</td>\n",
       "      <td>812</td>\n",
       "      <td>6778.958333</td>\n",
       "      <td>85607</td>\n",
       "      <td>0.7</td>\n",
       "      <td>0</td>\n",
       "      <td>0</td>\n",
       "      <td>0</td>\n",
       "      <td>0</td>\n",
       "    </tr>\n",
       "  </tbody>\n",
       "</table>\n",
       "</div>"
      ],
      "text/plain": [
       "    credit.policy             purpose  int.rate  installment  log.annual.inc  \\\n",
       "0               1  debt_consolidation    0.1189       829.10       11.350407   \n",
       "1               1         credit_card    0.1071       228.22       11.082143   \n",
       "2               1  debt_consolidation    0.1357       366.86       10.373491   \n",
       "3               1  debt_consolidation    0.1008       162.34       11.350407   \n",
       "4               1         credit_card    0.1426       102.92       11.299732   \n",
       "5               1         credit_card    0.0788       125.13       11.904968   \n",
       "6               1  debt_consolidation    0.1496       194.02       10.714418   \n",
       "7               1           all_other    0.1114       131.22       11.002100   \n",
       "8               1    home_improvement    0.1134        87.19       11.407565   \n",
       "9               1  debt_consolidation    0.1221        84.12       10.203592   \n",
       "10              1  debt_consolidation    0.1347       360.43       10.434116   \n",
       "11              1  debt_consolidation    0.1324       253.58       11.835009   \n",
       "12              1  debt_consolidation    0.0859       316.11       10.933107   \n",
       "13              1      small_business    0.0714        92.82       11.512925   \n",
       "14              1  debt_consolidation    0.0863       209.54        9.487972   \n",
       "15              1      major_purchase    0.1103       327.53       10.738915   \n",
       "16              1           all_other    0.1317        77.69       10.522773   \n",
       "17              1         credit_card    0.0894       476.58       11.608236   \n",
       "18              1  debt_consolidation    0.1039       584.12       10.491274   \n",
       "19              1      major_purchase    0.1513       173.65       11.002100   \n",
       "20              1           all_other    0.0800       188.02       11.225243   \n",
       "21              1           all_other    0.0863       474.42       10.819778   \n",
       "22              1         credit_card    0.1355       339.60       11.512925   \n",
       "23              1         credit_card    0.0788       484.85       11.736069   \n",
       "24              1  debt_consolidation    0.1229       320.19       11.264464   \n",
       "25              1           all_other    0.0901       159.03       12.429216   \n",
       "26              1           all_other    0.0743       155.38       11.082143   \n",
       "27              1  debt_consolidation    0.1375       255.43        9.998798   \n",
       "28              1           all_other    0.0743       155.38       12.206073   \n",
       "29              1           all_other    0.0743       155.38       12.206073   \n",
       "\n",
       "      dti  fico  days.with.cr.line  revol.bal  revol.util  inq.last.6mths  \\\n",
       "0   19.48   737        5639.958333      28854        52.1               0   \n",
       "1   14.29   707        2760.000000      33623        76.7               0   \n",
       "2   11.63   682        4710.000000       3511        25.6               1   \n",
       "3    8.10   712        2699.958333      33667        73.2               1   \n",
       "4   14.97   667        4066.000000       4740        39.5               0   \n",
       "5   16.98   727        6120.041667      50807        51.0               0   \n",
       "6    4.00   667        3180.041667       3839        76.8               0   \n",
       "7   11.08   722        5116.000000      24220        68.6               0   \n",
       "8   17.25   682        3989.000000      69909        51.1               1   \n",
       "9   10.00   707        2730.041667       5630        23.0               1   \n",
       "10  22.09   677        6713.041667      13846        71.0               2   \n",
       "11   9.16   662        4298.000000       5122        18.2               2   \n",
       "12  15.49   767        6519.958333       6068        16.7               0   \n",
       "13   6.50   747        4384.000000       3021         4.8               0   \n",
       "14   9.73   727        1559.958333       6282        44.6               0   \n",
       "15  13.04   702        8159.958333       5394        53.4               1   \n",
       "16   2.26   672        3895.958333       2211        88.4               0   \n",
       "17   7.07   797        6510.958333       7586        52.7               1   \n",
       "18   3.80   712        2760.000000       8311        59.8               0   \n",
       "19   2.74   667        1126.958333        591        84.4               3   \n",
       "20  16.08   772        4888.958333      29797        23.2               1   \n",
       "21   2.59   797       11951.000000       5656        27.6               0   \n",
       "22   7.94   662        1939.958333      21162        57.7               0   \n",
       "23   7.05   782        5640.041667      16931        34.6               1   \n",
       "24   8.80   672        3760.958333       4822        58.1               0   \n",
       "25  10.00   712        1553.958333      14354        36.6               0   \n",
       "26   0.28   802        4649.958333       1576         5.7               1   \n",
       "27  14.29   662        1318.958333       4175        51.5               0   \n",
       "28   0.28   772        4516.958333       3164        13.7               0   \n",
       "29   3.72   812        6778.958333      85607         0.7               0   \n",
       "\n",
       "    delinq.2yrs  pub.rec  not.fully.paid  \n",
       "0             0        0               0  \n",
       "1             0        0               0  \n",
       "2             0        0               0  \n",
       "3             0        0               0  \n",
       "4             1        0               0  \n",
       "5             0        0               0  \n",
       "6             0        1               1  \n",
       "7             0        0               1  \n",
       "8             0        0               0  \n",
       "9             0        0               0  \n",
       "10            0        1               0  \n",
       "11            1        0               0  \n",
       "12            0        0               0  \n",
       "13            1        0               0  \n",
       "14            0        0               0  \n",
       "15            0        0               0  \n",
       "16            0        0               0  \n",
       "17            0        0               0  \n",
       "18            0        0               0  \n",
       "19            0        0               0  \n",
       "20            0        0               0  \n",
       "21            0        0               0  \n",
       "22            0        0               0  \n",
       "23            0        0               0  \n",
       "24            0        1               0  \n",
       "25            2        0               0  \n",
       "26            0        0               0  \n",
       "27            1        0               0  \n",
       "28            0        0               0  \n",
       "29            0        0               0  "
      ]
     },
     "execution_count": 2,
     "metadata": {},
     "output_type": "execute_result"
    }
   ],
   "source": [
    "loan_data= pd.read_csv('loan_data.csv')\n",
    "loan_data.head(30)"
   ]
  },
  {
   "cell_type": "markdown",
   "metadata": {},
   "source": [
    "## First Step we are studying the data."
   ]
  },
  {
   "cell_type": "code",
   "execution_count": 3,
   "metadata": {},
   "outputs": [
    {
     "name": "stdout",
     "output_type": "stream",
     "text": [
      "<class 'pandas.core.frame.DataFrame'>\n",
      "RangeIndex: 9578 entries, 0 to 9577\n",
      "Data columns (total 14 columns):\n",
      " #   Column             Non-Null Count  Dtype  \n",
      "---  ------             --------------  -----  \n",
      " 0   credit.policy      9578 non-null   int64  \n",
      " 1   purpose            9578 non-null   object \n",
      " 2   int.rate           9578 non-null   float64\n",
      " 3   installment        9578 non-null   float64\n",
      " 4   log.annual.inc     9578 non-null   float64\n",
      " 5   dti                9578 non-null   float64\n",
      " 6   fico               9578 non-null   int64  \n",
      " 7   days.with.cr.line  9578 non-null   float64\n",
      " 8   revol.bal          9578 non-null   int64  \n",
      " 9   revol.util         9578 non-null   float64\n",
      " 10  inq.last.6mths     9578 non-null   int64  \n",
      " 11  delinq.2yrs        9578 non-null   int64  \n",
      " 12  pub.rec            9578 non-null   int64  \n",
      " 13  not.fully.paid     9578 non-null   int64  \n",
      "dtypes: float64(6), int64(7), object(1)\n",
      "memory usage: 1.0+ MB\n"
     ]
    }
   ],
   "source": [
    "loan_data.info()"
   ]
  },
  {
   "cell_type": "code",
   "execution_count": 4,
   "metadata": {},
   "outputs": [
    {
     "data": {
      "text/plain": [
       "credit.policy        0\n",
       "purpose              0\n",
       "int.rate             0\n",
       "installment          0\n",
       "log.annual.inc       0\n",
       "dti                  0\n",
       "fico                 0\n",
       "days.with.cr.line    0\n",
       "revol.bal            0\n",
       "revol.util           0\n",
       "inq.last.6mths       0\n",
       "delinq.2yrs          0\n",
       "pub.rec              0\n",
       "not.fully.paid       0\n",
       "dtype: int64"
      ]
     },
     "execution_count": 4,
     "metadata": {},
     "output_type": "execute_result"
    }
   ],
   "source": [
    "loan_data.isnull().sum()"
   ]
  },
  {
   "cell_type": "code",
   "execution_count": 5,
   "metadata": {},
   "outputs": [
    {
     "data": {
      "text/html": [
       "<div>\n",
       "<style scoped>\n",
       "    .dataframe tbody tr th:only-of-type {\n",
       "        vertical-align: middle;\n",
       "    }\n",
       "\n",
       "    .dataframe tbody tr th {\n",
       "        vertical-align: top;\n",
       "    }\n",
       "\n",
       "    .dataframe thead th {\n",
       "        text-align: right;\n",
       "    }\n",
       "</style>\n",
       "<table border=\"1\" class=\"dataframe\">\n",
       "  <thead>\n",
       "    <tr style=\"text-align: right;\">\n",
       "      <th></th>\n",
       "      <th>count</th>\n",
       "      <th>mean</th>\n",
       "      <th>std</th>\n",
       "      <th>min</th>\n",
       "      <th>25%</th>\n",
       "      <th>50%</th>\n",
       "      <th>75%</th>\n",
       "      <th>max</th>\n",
       "    </tr>\n",
       "  </thead>\n",
       "  <tbody>\n",
       "    <tr>\n",
       "      <th>credit.policy</th>\n",
       "      <td>9578.0</td>\n",
       "      <td>0.804970</td>\n",
       "      <td>0.396245</td>\n",
       "      <td>0.000000</td>\n",
       "      <td>1.000000</td>\n",
       "      <td>1.000000</td>\n",
       "      <td>1.000000</td>\n",
       "      <td>1.000000e+00</td>\n",
       "    </tr>\n",
       "    <tr>\n",
       "      <th>int.rate</th>\n",
       "      <td>9578.0</td>\n",
       "      <td>0.122640</td>\n",
       "      <td>0.026847</td>\n",
       "      <td>0.060000</td>\n",
       "      <td>0.103900</td>\n",
       "      <td>0.122100</td>\n",
       "      <td>0.140700</td>\n",
       "      <td>2.164000e-01</td>\n",
       "    </tr>\n",
       "    <tr>\n",
       "      <th>installment</th>\n",
       "      <td>9578.0</td>\n",
       "      <td>319.089413</td>\n",
       "      <td>207.071301</td>\n",
       "      <td>15.670000</td>\n",
       "      <td>163.770000</td>\n",
       "      <td>268.950000</td>\n",
       "      <td>432.762500</td>\n",
       "      <td>9.401400e+02</td>\n",
       "    </tr>\n",
       "    <tr>\n",
       "      <th>log.annual.inc</th>\n",
       "      <td>9578.0</td>\n",
       "      <td>10.932117</td>\n",
       "      <td>0.614813</td>\n",
       "      <td>7.547502</td>\n",
       "      <td>10.558414</td>\n",
       "      <td>10.928884</td>\n",
       "      <td>11.291293</td>\n",
       "      <td>1.452835e+01</td>\n",
       "    </tr>\n",
       "    <tr>\n",
       "      <th>dti</th>\n",
       "      <td>9578.0</td>\n",
       "      <td>12.606679</td>\n",
       "      <td>6.883970</td>\n",
       "      <td>0.000000</td>\n",
       "      <td>7.212500</td>\n",
       "      <td>12.665000</td>\n",
       "      <td>17.950000</td>\n",
       "      <td>2.996000e+01</td>\n",
       "    </tr>\n",
       "    <tr>\n",
       "      <th>fico</th>\n",
       "      <td>9578.0</td>\n",
       "      <td>710.846314</td>\n",
       "      <td>37.970537</td>\n",
       "      <td>612.000000</td>\n",
       "      <td>682.000000</td>\n",
       "      <td>707.000000</td>\n",
       "      <td>737.000000</td>\n",
       "      <td>8.270000e+02</td>\n",
       "    </tr>\n",
       "    <tr>\n",
       "      <th>days.with.cr.line</th>\n",
       "      <td>9578.0</td>\n",
       "      <td>4560.767197</td>\n",
       "      <td>2496.930377</td>\n",
       "      <td>178.958333</td>\n",
       "      <td>2820.000000</td>\n",
       "      <td>4139.958333</td>\n",
       "      <td>5730.000000</td>\n",
       "      <td>1.763996e+04</td>\n",
       "    </tr>\n",
       "    <tr>\n",
       "      <th>revol.bal</th>\n",
       "      <td>9578.0</td>\n",
       "      <td>16913.963876</td>\n",
       "      <td>33756.189557</td>\n",
       "      <td>0.000000</td>\n",
       "      <td>3187.000000</td>\n",
       "      <td>8596.000000</td>\n",
       "      <td>18249.500000</td>\n",
       "      <td>1.207359e+06</td>\n",
       "    </tr>\n",
       "    <tr>\n",
       "      <th>revol.util</th>\n",
       "      <td>9578.0</td>\n",
       "      <td>46.799236</td>\n",
       "      <td>29.014417</td>\n",
       "      <td>0.000000</td>\n",
       "      <td>22.600000</td>\n",
       "      <td>46.300000</td>\n",
       "      <td>70.900000</td>\n",
       "      <td>1.190000e+02</td>\n",
       "    </tr>\n",
       "    <tr>\n",
       "      <th>inq.last.6mths</th>\n",
       "      <td>9578.0</td>\n",
       "      <td>1.577469</td>\n",
       "      <td>2.200245</td>\n",
       "      <td>0.000000</td>\n",
       "      <td>0.000000</td>\n",
       "      <td>1.000000</td>\n",
       "      <td>2.000000</td>\n",
       "      <td>3.300000e+01</td>\n",
       "    </tr>\n",
       "    <tr>\n",
       "      <th>delinq.2yrs</th>\n",
       "      <td>9578.0</td>\n",
       "      <td>0.163708</td>\n",
       "      <td>0.546215</td>\n",
       "      <td>0.000000</td>\n",
       "      <td>0.000000</td>\n",
       "      <td>0.000000</td>\n",
       "      <td>0.000000</td>\n",
       "      <td>1.300000e+01</td>\n",
       "    </tr>\n",
       "    <tr>\n",
       "      <th>pub.rec</th>\n",
       "      <td>9578.0</td>\n",
       "      <td>0.062122</td>\n",
       "      <td>0.262126</td>\n",
       "      <td>0.000000</td>\n",
       "      <td>0.000000</td>\n",
       "      <td>0.000000</td>\n",
       "      <td>0.000000</td>\n",
       "      <td>5.000000e+00</td>\n",
       "    </tr>\n",
       "    <tr>\n",
       "      <th>not.fully.paid</th>\n",
       "      <td>9578.0</td>\n",
       "      <td>0.160054</td>\n",
       "      <td>0.366676</td>\n",
       "      <td>0.000000</td>\n",
       "      <td>0.000000</td>\n",
       "      <td>0.000000</td>\n",
       "      <td>0.000000</td>\n",
       "      <td>1.000000e+00</td>\n",
       "    </tr>\n",
       "  </tbody>\n",
       "</table>\n",
       "</div>"
      ],
      "text/plain": [
       "                    count          mean           std         min  \\\n",
       "credit.policy      9578.0      0.804970      0.396245    0.000000   \n",
       "int.rate           9578.0      0.122640      0.026847    0.060000   \n",
       "installment        9578.0    319.089413    207.071301   15.670000   \n",
       "log.annual.inc     9578.0     10.932117      0.614813    7.547502   \n",
       "dti                9578.0     12.606679      6.883970    0.000000   \n",
       "fico               9578.0    710.846314     37.970537  612.000000   \n",
       "days.with.cr.line  9578.0   4560.767197   2496.930377  178.958333   \n",
       "revol.bal          9578.0  16913.963876  33756.189557    0.000000   \n",
       "revol.util         9578.0     46.799236     29.014417    0.000000   \n",
       "inq.last.6mths     9578.0      1.577469      2.200245    0.000000   \n",
       "delinq.2yrs        9578.0      0.163708      0.546215    0.000000   \n",
       "pub.rec            9578.0      0.062122      0.262126    0.000000   \n",
       "not.fully.paid     9578.0      0.160054      0.366676    0.000000   \n",
       "\n",
       "                           25%          50%           75%           max  \n",
       "credit.policy         1.000000     1.000000      1.000000  1.000000e+00  \n",
       "int.rate              0.103900     0.122100      0.140700  2.164000e-01  \n",
       "installment         163.770000   268.950000    432.762500  9.401400e+02  \n",
       "log.annual.inc       10.558414    10.928884     11.291293  1.452835e+01  \n",
       "dti                   7.212500    12.665000     17.950000  2.996000e+01  \n",
       "fico                682.000000   707.000000    737.000000  8.270000e+02  \n",
       "days.with.cr.line  2820.000000  4139.958333   5730.000000  1.763996e+04  \n",
       "revol.bal          3187.000000  8596.000000  18249.500000  1.207359e+06  \n",
       "revol.util           22.600000    46.300000     70.900000  1.190000e+02  \n",
       "inq.last.6mths        0.000000     1.000000      2.000000  3.300000e+01  \n",
       "delinq.2yrs           0.000000     0.000000      0.000000  1.300000e+01  \n",
       "pub.rec               0.000000     0.000000      0.000000  5.000000e+00  \n",
       "not.fully.paid        0.000000     0.000000      0.000000  1.000000e+00  "
      ]
     },
     "execution_count": 5,
     "metadata": {},
     "output_type": "execute_result"
    }
   ],
   "source": [
    "loan_data.describe().T"
   ]
  },
  {
   "cell_type": "markdown",
   "metadata": {},
   "source": [
    "## Second step we try to get some features from the given data to help us in our analysis."
   ]
  },
  {
   "cell_type": "markdown",
   "metadata": {},
   "source": [
    "#### 1) Annual income:"
   ]
  },
  {
   "cell_type": "code",
   "execution_count": 6,
   "metadata": {},
   "outputs": [],
   "source": [
    "import math\n",
    "loan_data['annual_income']= np.exp(loan_data['log.annual.inc'])"
   ]
  },
  {
   "cell_type": "markdown",
   "metadata": {},
   "source": [
    "#### 2) The real value of the Dept:"
   ]
  },
  {
   "cell_type": "code",
   "execution_count": 7,
   "metadata": {},
   "outputs": [],
   "source": [
    "loan_data['dept']= loan_data['dti'] * loan_data['annual_income']"
   ]
  },
  {
   "cell_type": "markdown",
   "metadata": {},
   "source": [
    "#### 3) The real time to finish the dept in years:"
   ]
  },
  {
   "cell_type": "code",
   "execution_count": 8,
   "metadata": {},
   "outputs": [],
   "source": [
    "loan_data['finish_years_dept']= (loan_data['dept'] / loan_data['installment']) / 12"
   ]
  },
  {
   "cell_type": "code",
   "execution_count": 9,
   "metadata": {},
   "outputs": [
    {
     "data": {
      "text/html": [
       "<div>\n",
       "<style scoped>\n",
       "    .dataframe tbody tr th:only-of-type {\n",
       "        vertical-align: middle;\n",
       "    }\n",
       "\n",
       "    .dataframe tbody tr th {\n",
       "        vertical-align: top;\n",
       "    }\n",
       "\n",
       "    .dataframe thead th {\n",
       "        text-align: right;\n",
       "    }\n",
       "</style>\n",
       "<table border=\"1\" class=\"dataframe\">\n",
       "  <thead>\n",
       "    <tr style=\"text-align: right;\">\n",
       "      <th></th>\n",
       "      <th>credit.policy</th>\n",
       "      <th>purpose</th>\n",
       "      <th>int.rate</th>\n",
       "      <th>installment</th>\n",
       "      <th>log.annual.inc</th>\n",
       "      <th>dti</th>\n",
       "      <th>fico</th>\n",
       "      <th>days.with.cr.line</th>\n",
       "      <th>revol.bal</th>\n",
       "      <th>revol.util</th>\n",
       "      <th>inq.last.6mths</th>\n",
       "      <th>delinq.2yrs</th>\n",
       "      <th>pub.rec</th>\n",
       "      <th>not.fully.paid</th>\n",
       "      <th>annual_income</th>\n",
       "      <th>dept</th>\n",
       "      <th>finish_years_dept</th>\n",
       "    </tr>\n",
       "  </thead>\n",
       "  <tbody>\n",
       "    <tr>\n",
       "      <th>0</th>\n",
       "      <td>1</td>\n",
       "      <td>debt_consolidation</td>\n",
       "      <td>0.1189</td>\n",
       "      <td>829.10</td>\n",
       "      <td>11.350407</td>\n",
       "      <td>19.48</td>\n",
       "      <td>737</td>\n",
       "      <td>5639.958333</td>\n",
       "      <td>28854</td>\n",
       "      <td>52.1</td>\n",
       "      <td>0</td>\n",
       "      <td>0</td>\n",
       "      <td>0</td>\n",
       "      <td>0</td>\n",
       "      <td>85000.000385</td>\n",
       "      <td>1.655800e+06</td>\n",
       "      <td>166.425442</td>\n",
       "    </tr>\n",
       "    <tr>\n",
       "      <th>1</th>\n",
       "      <td>1</td>\n",
       "      <td>credit_card</td>\n",
       "      <td>0.1071</td>\n",
       "      <td>228.22</td>\n",
       "      <td>11.082143</td>\n",
       "      <td>14.29</td>\n",
       "      <td>707</td>\n",
       "      <td>2760.000000</td>\n",
       "      <td>33623</td>\n",
       "      <td>76.7</td>\n",
       "      <td>0</td>\n",
       "      <td>0</td>\n",
       "      <td>0</td>\n",
       "      <td>0</td>\n",
       "      <td>65000.000073</td>\n",
       "      <td>9.288500e+05</td>\n",
       "      <td>339.164695</td>\n",
       "    </tr>\n",
       "    <tr>\n",
       "      <th>2</th>\n",
       "      <td>1</td>\n",
       "      <td>debt_consolidation</td>\n",
       "      <td>0.1357</td>\n",
       "      <td>366.86</td>\n",
       "      <td>10.373491</td>\n",
       "      <td>11.63</td>\n",
       "      <td>682</td>\n",
       "      <td>4710.000000</td>\n",
       "      <td>3511</td>\n",
       "      <td>25.6</td>\n",
       "      <td>1</td>\n",
       "      <td>0</td>\n",
       "      <td>0</td>\n",
       "      <td>0</td>\n",
       "      <td>31999.999943</td>\n",
       "      <td>3.721600e+05</td>\n",
       "      <td>84.537244</td>\n",
       "    </tr>\n",
       "    <tr>\n",
       "      <th>3</th>\n",
       "      <td>1</td>\n",
       "      <td>debt_consolidation</td>\n",
       "      <td>0.1008</td>\n",
       "      <td>162.34</td>\n",
       "      <td>11.350407</td>\n",
       "      <td>8.10</td>\n",
       "      <td>712</td>\n",
       "      <td>2699.958333</td>\n",
       "      <td>33667</td>\n",
       "      <td>73.2</td>\n",
       "      <td>1</td>\n",
       "      <td>0</td>\n",
       "      <td>0</td>\n",
       "      <td>0</td>\n",
       "      <td>85000.000385</td>\n",
       "      <td>6.885000e+05</td>\n",
       "      <td>353.424912</td>\n",
       "    </tr>\n",
       "    <tr>\n",
       "      <th>4</th>\n",
       "      <td>1</td>\n",
       "      <td>credit_card</td>\n",
       "      <td>0.1426</td>\n",
       "      <td>102.92</td>\n",
       "      <td>11.299732</td>\n",
       "      <td>14.97</td>\n",
       "      <td>667</td>\n",
       "      <td>4066.000000</td>\n",
       "      <td>4740</td>\n",
       "      <td>39.5</td>\n",
       "      <td>0</td>\n",
       "      <td>1</td>\n",
       "      <td>0</td>\n",
       "      <td>0</td>\n",
       "      <td>80799.999636</td>\n",
       "      <td>1.209576e+06</td>\n",
       "      <td>979.382040</td>\n",
       "    </tr>\n",
       "  </tbody>\n",
       "</table>\n",
       "</div>"
      ],
      "text/plain": [
       "   credit.policy             purpose  int.rate  installment  log.annual.inc  \\\n",
       "0              1  debt_consolidation    0.1189       829.10       11.350407   \n",
       "1              1         credit_card    0.1071       228.22       11.082143   \n",
       "2              1  debt_consolidation    0.1357       366.86       10.373491   \n",
       "3              1  debt_consolidation    0.1008       162.34       11.350407   \n",
       "4              1         credit_card    0.1426       102.92       11.299732   \n",
       "\n",
       "     dti  fico  days.with.cr.line  revol.bal  revol.util  inq.last.6mths  \\\n",
       "0  19.48   737        5639.958333      28854        52.1               0   \n",
       "1  14.29   707        2760.000000      33623        76.7               0   \n",
       "2  11.63   682        4710.000000       3511        25.6               1   \n",
       "3   8.10   712        2699.958333      33667        73.2               1   \n",
       "4  14.97   667        4066.000000       4740        39.5               0   \n",
       "\n",
       "   delinq.2yrs  pub.rec  not.fully.paid  annual_income          dept  \\\n",
       "0            0        0               0   85000.000385  1.655800e+06   \n",
       "1            0        0               0   65000.000073  9.288500e+05   \n",
       "2            0        0               0   31999.999943  3.721600e+05   \n",
       "3            0        0               0   85000.000385  6.885000e+05   \n",
       "4            1        0               0   80799.999636  1.209576e+06   \n",
       "\n",
       "   finish_years_dept  \n",
       "0         166.425442  \n",
       "1         339.164695  \n",
       "2          84.537244  \n",
       "3         353.424912  \n",
       "4         979.382040  "
      ]
     },
     "execution_count": 9,
     "metadata": {},
     "output_type": "execute_result"
    }
   ],
   "source": [
    "loan_data.head(5)"
   ]
  },
  {
   "cell_type": "markdown",
   "metadata": {},
   "source": [
    "## Third step we can get relations and data visualization to understand the data more."
   ]
  },
  {
   "cell_type": "markdown",
   "metadata": {},
   "source": [
    "#### 1) Credit policy"
   ]
  },
  {
   "cell_type": "code",
   "execution_count": 10,
   "metadata": {},
   "outputs": [
    {
     "data": {
      "text/plain": [
       "<matplotlib.axes._subplots.AxesSubplot at 0x5c32934588>"
      ]
     },
     "execution_count": 10,
     "metadata": {},
     "output_type": "execute_result"
    },
    {
     "data": {
      "image/png": "[encoded data removed]",
      "text/plain": [
       "<Figure size 432x288 with 1 Axes>"
      ]
     },
     "metadata": {
      "needs_background": "light"
     },
     "output_type": "display_data"
    }
   ],
   "source": [
    "sns.histplot(data= loan_data, x= loan_data['credit.policy'])"
   ]
  },
  {
   "cell_type": "code",
   "execution_count": 11,
   "metadata": {},
   "outputs": [
    {
     "data": {
      "text/plain": [
       "<matplotlib.axes._subplots.AxesSubplot at 0x5c33a735c8>"
      ]
     },
     "execution_count": 11,
     "metadata": {},
     "output_type": "execute_result"
    },
    {
     "data": {
      "image/png": "[encoded data removed]",
      "text/plain": [
       "<Figure size 432x288 with 1 Axes>"
      ]
     },
     "metadata": {},
     "output_type": "display_data"
    }
   ],
   "source": [
    "loan_data['credit.policy'].value_counts().plot(kind= 'pie')"
   ]
  },
  {
   "cell_type": "code",
   "execution_count": 12,
   "metadata": {},
   "outputs": [
    {
     "data": {
      "text/plain": [
       "(array([0, 1, 2, 3, 4, 5, 6]), <a list of 7 Text xticklabel objects>)"
      ]
     },
     "execution_count": 12,
     "metadata": {},
     "output_type": "execute_result"
    },
    {
     "data": {
      "image/png": "[encoded data removed]",
      "text/plain": [
       "<Figure size 432x288 with 1 Axes>"
      ]
     },
     "metadata": {
      "needs_background": "light"
     },
     "output_type": "display_data"
    }
   ],
   "source": [
    "sns.barplot(data= loan_data, x= 'purpose', y= 'credit.policy', ci= None, color= sns.color_palette()[-1])\n",
    "plt.xticks(rotation= 90)"
   ]
  },
  {
   "cell_type": "markdown",
   "metadata": {},
   "source": [
    "#### 2) Purpose:"
   ]
  },
  {
   "cell_type": "code",
   "execution_count": 20,
   "metadata": {},
   "outputs": [
    {
     "data": {
      "text/plain": [
       "([0, 1, 2, 3, 4, 5, 6], <a list of 7 Text xticklabel objects>)"
      ]
     },
     "execution_count": 20,
     "metadata": {},
     "output_type": "execute_result"
    },
    {
     "data": {
      "image/png": "[encoded data removed]",
      "text/plain": [
       "<Figure size 432x288 with 1 Axes>"
      ]
     },
     "metadata": {
      "needs_background": "light"
     },
     "output_type": "display_data"
    }
   ],
   "source": [
    "sns.histplot(data= loan_data, x= 'purpose',)\n",
    "plt.xticks(rotation=90)"
   ]
  },
  {
   "cell_type": "code",
   "execution_count": 23,
   "metadata": {},
   "outputs": [
    {
     "data": {
      "text/plain": [
       "<matplotlib.axes._subplots.AxesSubplot at 0x5c3a4dbf08>"
      ]
     },
     "execution_count": 23,
     "metadata": {},
     "output_type": "execute_result"
    },
    {
     "data": {
      "image/png": "[encoded data removed]",
      "text/plain": [
       "<Figure size 432x288 with 1 Axes>"
      ]
     },
     "metadata": {},
     "output_type": "display_data"
    }
   ],
   "source": [
    "loan_data['purpose'].value_counts().plot(kind= 'pie')"
   ]
  },
  {
   "cell_type": "code",
   "execution_count": 24,
   "metadata": {},
   "outputs": [
    {
     "data": {
      "text/plain": [
       "(array([0, 1, 2, 3, 4, 5, 6]), <a list of 7 Text xticklabel objects>)"
      ]
     },
     "execution_count": 24,
     "metadata": {},
     "output_type": "execute_result"
    },
    {
     "data": {
      "image/png": "[encoded data removed]",
      "text/plain": [
       "<Figure size 432x288 with 1 Axes>"
      ]
     },
     "metadata": {
      "needs_background": "light"
     },
     "output_type": "display_data"
    }
   ],
   "source": [
    "sns.barplot(data= loan_data, x= 'purpose', y= 'fico', ci= None, color= sns.color_palette()[-1])\n",
    "plt.xticks(rotation= 90)"
   ]
  },
  {
   "cell_type": "markdown",
   "metadata": {},
   "source": [
    "#### 4) FICO:"
   ]
  },
  {
   "cell_type": "code",
   "execution_count": 25,
   "metadata": {},
   "outputs": [
    {
     "data": {
      "text/plain": [
       "<matplotlib.axes._subplots.AxesSubplot at 0x5c3a594248>"
      ]
     },
     "execution_count": 25,
     "metadata": {},
     "output_type": "execute_result"
    },
    {
     "data": {
      "image/png": "[encoded data removed]",
      "text/plain": [
       "<Figure size 432x288 with 1 Axes>"
      ]
     },
     "metadata": {
      "needs_background": "light"
     },
     "output_type": "display_data"
    }
   ],
   "source": [
    "sns.histplot(data= loan_data, x= 'fico', kde=True)"
   ]
  },
  {
   "cell_type": "code",
   "execution_count": 30,
   "metadata": {},
   "outputs": [
    {
     "data": {
      "text/plain": [
       "<matplotlib.axes._subplots.AxesSubplot at 0x5c32d2c348>"
      ]
     },
     "execution_count": 30,
     "metadata": {},
     "output_type": "execute_result"
    },
    {
     "data": {
      "image/png": "[encoded data removed]",
      "text/plain": [
       "<Figure size 432x288 with 1 Axes>"
      ]
     },
     "metadata": {
      "needs_background": "light"
     },
     "output_type": "display_data"
    }
   ],
   "source": [
    "sns.barplot(data= loan_data, x='delinq.2yrs', y= 'fico', ci= None, color= sns.color_palette()[-1])"
   ]
  },
  {
   "cell_type": "code",
   "execution_count": 34,
   "metadata": {},
   "outputs": [
    {
     "data": {
      "text/plain": [
       "<matplotlib.axes._subplots.AxesSubplot at 0x5c3b4d3c08>"
      ]
     },
     "execution_count": 34,
     "metadata": {},
     "output_type": "execute_result"
    },
    {
     "data": {
      "image/png": "[encoded data removed]",
      "text/plain": [
       "<Figure size 432x288 with 1 Axes>"
      ]
     },
     "metadata": {
      "needs_background": "light"
     },
     "output_type": "display_data"
    }
   ],
   "source": [
    "loan_data.groupby('delinq.2yrs')['fico'].mean().plot(kind= 'bar')"
   ]
  },
  {
   "cell_type": "code",
   "execution_count": 46,
   "metadata": {},
   "outputs": [
    {
     "data": {
      "text/plain": [
       "(array([0, 1, 2, 3, 4, 5]), <a list of 6 Text xticklabel objects>)"
      ]
     },
     "execution_count": 46,
     "metadata": {},
     "output_type": "execute_result"
    },
    {
     "data": {
      "image/png": "[encoded data removed]",
      "text/plain": [
       "<Figure size 432x288 with 1 Axes>"
      ]
     },
     "metadata": {
      "needs_background": "light"
     },
     "output_type": "display_data"
    }
   ],
   "source": [
    "loan_data.groupby('pub.rec')['fico'].mean().plot(kind= 'bar')\n",
    "plt.xticks(rotation= 90)"
   ]
  },
  {
   "cell_type": "markdown",
   "metadata": {},
   "source": [
    "#### 5) Annual income:"
   ]
  },
  {
   "cell_type": "code",
   "execution_count": 47,
   "metadata": {},
   "outputs": [
    {
     "data": {
      "text/html": [
       "<div>\n",
       "<style scoped>\n",
       "    .dataframe tbody tr th:only-of-type {\n",
       "        vertical-align: middle;\n",
       "    }\n",
       "\n",
       "    .dataframe tbody tr th {\n",
       "        vertical-align: top;\n",
       "    }\n",
       "\n",
       "    .dataframe thead th {\n",
       "        text-align: right;\n",
       "    }\n",
       "</style>\n",
       "<table border=\"1\" class=\"dataframe\">\n",
       "  <thead>\n",
       "    <tr style=\"text-align: right;\">\n",
       "      <th></th>\n",
       "      <th>credit.policy</th>\n",
       "      <th>purpose</th>\n",
       "      <th>int.rate</th>\n",
       "      <th>installment</th>\n",
       "      <th>log.annual.inc</th>\n",
       "      <th>dti</th>\n",
       "      <th>fico</th>\n",
       "      <th>days.with.cr.line</th>\n",
       "      <th>revol.bal</th>\n",
       "      <th>revol.util</th>\n",
       "      <th>inq.last.6mths</th>\n",
       "      <th>delinq.2yrs</th>\n",
       "      <th>pub.rec</th>\n",
       "      <th>not.fully.paid</th>\n",
       "      <th>annual_income</th>\n",
       "      <th>dept</th>\n",
       "      <th>finish_years_dept</th>\n",
       "    </tr>\n",
       "  </thead>\n",
       "  <tbody>\n",
       "    <tr>\n",
       "      <th>0</th>\n",
       "      <td>1</td>\n",
       "      <td>debt_consolidation</td>\n",
       "      <td>0.1189</td>\n",
       "      <td>829.10</td>\n",
       "      <td>11.350407</td>\n",
       "      <td>19.48</td>\n",
       "      <td>737</td>\n",
       "      <td>5639.958333</td>\n",
       "      <td>28854</td>\n",
       "      <td>52.1</td>\n",
       "      <td>0</td>\n",
       "      <td>0</td>\n",
       "      <td>0</td>\n",
       "      <td>0</td>\n",
       "      <td>85000.000385</td>\n",
       "      <td>1.655800e+06</td>\n",
       "      <td>166.425442</td>\n",
       "    </tr>\n",
       "    <tr>\n",
       "      <th>1</th>\n",
       "      <td>1</td>\n",
       "      <td>credit_card</td>\n",
       "      <td>0.1071</td>\n",
       "      <td>228.22</td>\n",
       "      <td>11.082143</td>\n",
       "      <td>14.29</td>\n",
       "      <td>707</td>\n",
       "      <td>2760.000000</td>\n",
       "      <td>33623</td>\n",
       "      <td>76.7</td>\n",
       "      <td>0</td>\n",
       "      <td>0</td>\n",
       "      <td>0</td>\n",
       "      <td>0</td>\n",
       "      <td>65000.000073</td>\n",
       "      <td>9.288500e+05</td>\n",
       "      <td>339.164695</td>\n",
       "    </tr>\n",
       "    <tr>\n",
       "      <th>2</th>\n",
       "      <td>1</td>\n",
       "      <td>debt_consolidation</td>\n",
       "      <td>0.1357</td>\n",
       "      <td>366.86</td>\n",
       "      <td>10.373491</td>\n",
       "      <td>11.63</td>\n",
       "      <td>682</td>\n",
       "      <td>4710.000000</td>\n",
       "      <td>3511</td>\n",
       "      <td>25.6</td>\n",
       "      <td>1</td>\n",
       "      <td>0</td>\n",
       "      <td>0</td>\n",
       "      <td>0</td>\n",
       "      <td>31999.999943</td>\n",
       "      <td>3.721600e+05</td>\n",
       "      <td>84.537244</td>\n",
       "    </tr>\n",
       "    <tr>\n",
       "      <th>3</th>\n",
       "      <td>1</td>\n",
       "      <td>debt_consolidation</td>\n",
       "      <td>0.1008</td>\n",
       "      <td>162.34</td>\n",
       "      <td>11.350407</td>\n",
       "      <td>8.10</td>\n",
       "      <td>712</td>\n",
       "      <td>2699.958333</td>\n",
       "      <td>33667</td>\n",
       "      <td>73.2</td>\n",
       "      <td>1</td>\n",
       "      <td>0</td>\n",
       "      <td>0</td>\n",
       "      <td>0</td>\n",
       "      <td>85000.000385</td>\n",
       "      <td>6.885000e+05</td>\n",
       "      <td>353.424912</td>\n",
       "    </tr>\n",
       "    <tr>\n",
       "      <th>4</th>\n",
       "      <td>1</td>\n",
       "      <td>credit_card</td>\n",
       "      <td>0.1426</td>\n",
       "      <td>102.92</td>\n",
       "      <td>11.299732</td>\n",
       "      <td>14.97</td>\n",
       "      <td>667</td>\n",
       "      <td>4066.000000</td>\n",
       "      <td>4740</td>\n",
       "      <td>39.5</td>\n",
       "      <td>0</td>\n",
       "      <td>1</td>\n",
       "      <td>0</td>\n",
       "      <td>0</td>\n",
       "      <td>80799.999636</td>\n",
       "      <td>1.209576e+06</td>\n",
       "      <td>979.382040</td>\n",
       "    </tr>\n",
       "  </tbody>\n",
       "</table>\n",
       "</div>"
      ],
      "text/plain": [
       "   credit.policy             purpose  int.rate  installment  log.annual.inc  \\\n",
       "0              1  debt_consolidation    0.1189       829.10       11.350407   \n",
       "1              1         credit_card    0.1071       228.22       11.082143   \n",
       "2              1  debt_consolidation    0.1357       366.86       10.373491   \n",
       "3              1  debt_consolidation    0.1008       162.34       11.350407   \n",
       "4              1         credit_card    0.1426       102.92       11.299732   \n",
       "\n",
       "     dti  fico  days.with.cr.line  revol.bal  revol.util  inq.last.6mths  \\\n",
       "0  19.48   737        5639.958333      28854        52.1               0   \n",
       "1  14.29   707        2760.000000      33623        76.7               0   \n",
       "2  11.63   682        4710.000000       3511        25.6               1   \n",
       "3   8.10   712        2699.958333      33667        73.2               1   \n",
       "4  14.97   667        4066.000000       4740        39.5               0   \n",
       "\n",
       "   delinq.2yrs  pub.rec  not.fully.paid  annual_income          dept  \\\n",
       "0            0        0               0   85000.000385  1.655800e+06   \n",
       "1            0        0               0   65000.000073  9.288500e+05   \n",
       "2            0        0               0   31999.999943  3.721600e+05   \n",
       "3            0        0               0   85000.000385  6.885000e+05   \n",
       "4            1        0               0   80799.999636  1.209576e+06   \n",
       "\n",
       "   finish_years_dept  \n",
       "0         166.425442  \n",
       "1         339.164695  \n",
       "2          84.537244  \n",
       "3         353.424912  \n",
       "4         979.382040  "
      ]
     },
     "execution_count": 47,
     "metadata": {},
     "output_type": "execute_result"
    }
   ],
   "source": [
    "loan_data.head(5)"
   ]
  },
  {
   "cell_type": "code",
   "execution_count": 50,
   "metadata": {},
   "outputs": [
    {
     "data": {
      "text/plain": [
       "count    9.578000e+03\n",
       "mean     6.840203e+04\n",
       "std      6.122753e+04\n",
       "min      1.896000e+03\n",
       "25%      3.850000e+04\n",
       "50%      5.576400e+04\n",
       "75%      8.012100e+04\n",
       "max      2.039784e+06\n",
       "Name: annual_income, dtype: float64"
      ]
     },
     "execution_count": 50,
     "metadata": {},
     "output_type": "execute_result"
    }
   ],
   "source": [
    "loan_data['annual_income'].describe()"
   ]
  },
  {
   "cell_type": "code",
   "execution_count": 57,
   "metadata": {},
   "outputs": [],
   "source": [
    "loan_data['annual_income_category']=pd.cut(loan_data['annual_income'], bins= [loan_data['annual_income'].min(), 70000, 150000, 200000, loan_data['annual_income'].max()], labels= ['low', 'medium', 'high', 'very.high'])"
   ]
  },
  {
   "cell_type": "code",
   "execution_count": 58,
   "metadata": {},
   "outputs": [
    {
     "data": {
      "text/plain": [
       "<matplotlib.axes._subplots.AxesSubplot at 0x5c40693588>"
      ]
     },
     "execution_count": 58,
     "metadata": {},
     "output_type": "execute_result"
    },
    {
     "data": {
      "image/png": "[encoded data removed]",
      "text/plain": [
       "<Figure size 432x288 with 1 Axes>"
      ]
     },
     "metadata": {
      "needs_background": "light"
     },
     "output_type": "display_data"
    }
   ],
   "source": [
    "sns.barplot(data= loan_data, x= 'annual_income_category', y='annual_income', ci= None)"
   ]
  },
  {
   "cell_type": "code",
   "execution_count": 59,
   "metadata": {},
   "outputs": [
    {
     "data": {
      "text/plain": [
       "<matplotlib.axes._subplots.AxesSubplot at 0x5c3fedd808>"
      ]
     },
     "execution_count": 59,
     "metadata": {},
     "output_type": "execute_result"
    },
    {
     "data": {
      "image/png": "[encoded data removed]",
      "text/plain": [
       "<Figure size 432x288 with 1 Axes>"
      ]
     },
     "metadata": {},
     "output_type": "display_data"
    }
   ],
   "source": [
    "loan_data.groupby('annual_income_category')['annual_income'].mean().plot(kind= 'pie')"
   ]
  },
  {
   "cell_type": "code",
   "execution_count": 60,
   "metadata": {},
   "outputs": [
    {
     "data": {
      "text/plain": [
       "<matplotlib.axes._subplots.AxesSubplot at 0x5c3fec5748>"
      ]
     },
     "execution_count": 60,
     "metadata": {},
     "output_type": "execute_result"
    },
    {
     "data": {
      "image/png": "[encoded data removed]",
      "text/plain": [
       "<Figure size 432x288 with 1 Axes>"
      ]
     },
     "metadata": {},
     "output_type": "display_data"
    }
   ],
   "source": [
    "loan_data['annual_income_category'].value_counts().plot(kind= 'pie')"
   ]
  },
  {
   "cell_type": "code",
   "execution_count": null,
   "metadata": {},
   "outputs": [],
   "source": []
  }
 ],
 "metadata": {
  "kernelspec": {
   "display_name": "Python 3",
   "language": "python",
   "name": "python3"
  },
  "language_info": {
   "codemirror_mode": {
    "name": "ipython",
    "version": 3
   },
   "file_extension": ".py",
   "mimetype": "text/x-python",
   "name": "python",
   "nbconvert_exporter": "python",
   "pygments_lexer": "ipython3",
   "version": "3.7.6"
  }
 },
 "nbformat": 4,
 "nbformat_minor": 4
}
